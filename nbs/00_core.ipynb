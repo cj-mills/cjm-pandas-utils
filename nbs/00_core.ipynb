{
 "cells": [
  {
   "cell_type": "markdown",
   "metadata": {},
   "source": [
    "# core\n",
    "\n",
    ">  Some utility functions for working with Pandas."
   ]
  },
  {
   "cell_type": "code",
   "execution_count": null,
   "metadata": {},
   "outputs": [],
   "source": [
    "#| default_exp core"
   ]
  },
  {
   "cell_type": "code",
   "execution_count": null,
   "metadata": {},
   "outputs": [],
   "source": [
    "#| hide\n",
    "from nbdev.showdoc import *"
   ]
  },
  {
   "cell_type": "code",
   "execution_count": null,
   "metadata": {},
   "outputs": [],
   "source": [
    "#| export\n",
    "import pandas as pd"
   ]
  },
  {
   "cell_type": "code",
   "execution_count": null,
   "metadata": {},
   "outputs": [],
   "source": [
    "#| export\n",
    "def markdown_to_pandas(md_table_str:str): # The markdown table string to be converted.\n",
    "    \"\"\"\n",
    "    Convert a markdown table string to a pandas DataFrame.\n",
    "    \"\"\"\n",
    "    \n",
    "    # Split the input markdown string into separate lines\n",
    "    lines = md_table_str.strip().split(\"\\n\")\n",
    "    \n",
    "    # Split the first line of the input markdown string into columns\n",
    "    columns = lines[0].split(\"|\")[1:-1]\n",
    "    \n",
    "    # Strip the whitespaces in the columns\n",
    "    columns = [x.strip() for x in columns]\n",
    "    \n",
    "    # Split the remaining lines of the input markdown string into rows of data\n",
    "    data = [line.split(\"|\")[1:-1] for line in lines[2:]]\n",
    "    \n",
    "    # Strip the whitespaces in each row of data\n",
    "    data = [[x.strip() for x in row] for row in data]\n",
    "    \n",
    "    # Create a pandas DataFrame from the columns and data\n",
    "    return pd.DataFrame(data, columns=columns)"
   ]
  },
  {
   "cell_type": "code",
   "execution_count": null,
   "metadata": {},
   "outputs": [],
   "source": [
    "md_table_str = \"\"\"\n",
    "| Name | Age | Occupation |\n",
    "| ---- | --- | ---------- |\n",
    "| John | 35  | Engineer    |\n",
    "| Jane | 29  | Teacher     |\n",
    "| Bob  | 42  | Doctor      |\n",
    "\"\"\""
   ]
  },
  {
   "cell_type": "code",
   "execution_count": null,
   "metadata": {},
   "outputs": [
    {
     "data": {
      "text/html": [
       "<div>\n",
       "<style scoped>\n",
       "    .dataframe tbody tr th:only-of-type {\n",
       "        vertical-align: middle;\n",
       "    }\n",
       "\n",
       "    .dataframe tbody tr th {\n",
       "        vertical-align: top;\n",
       "    }\n",
       "\n",
       "    .dataframe thead th {\n",
       "        text-align: right;\n",
       "    }\n",
       "</style>\n",
       "<table border=\"1\" class=\"dataframe\">\n",
       "  <thead>\n",
       "    <tr style=\"text-align: right;\">\n",
       "      <th></th>\n",
       "      <th>Name</th>\n",
       "      <th>Age</th>\n",
       "      <th>Occupation</th>\n",
       "    </tr>\n",
       "  </thead>\n",
       "  <tbody>\n",
       "    <tr>\n",
       "      <th>1</th>\n",
       "      <td>Jane</td>\n",
       "      <td>29</td>\n",
       "      <td>Teacher</td>\n",
       "    </tr>\n",
       "  </tbody>\n",
       "</table>\n",
       "</div>"
      ],
      "text/plain": [
       "   Name Age Occupation\n",
       "1  Jane  29    Teacher"
      ]
     },
     "execution_count": null,
     "metadata": {},
     "output_type": "execute_result"
    }
   ],
   "source": [
    "markdown_df = markdown_to_pandas(md_table_str)\n",
    "markdown_df[markdown_df.Name == \"Jane\"]"
   ]
  },
  {
   "cell_type": "code",
   "execution_count": null,
   "metadata": {},
   "outputs": [],
   "source": []
  },
  {
   "cell_type": "code",
   "execution_count": null,
   "metadata": {},
   "outputs": [],
   "source": [
    "#| export\n",
    "def display_df(df:pd.DataFrame, # The DataFrame to be displayed.\n",
    "               align:str='left'): # Alignment for the headers and all the cells.\n",
    "    \"\"\"\n",
    "    Display a pandas DataFrame with specified alignment for the headers and all the cells.\n",
    "    \"\"\"\n",
    "    # Set the properties for the styler object\n",
    "    properties = {'width': 'auto', 'text-align': align}\n",
    "    \n",
    "    # Set the styles for the table\n",
    "    styles = [{'selector': 'th', 'props': [('text-align', align)]}]\n",
    "    \n",
    "    # Return the styler object with set properties and table styles\n",
    "    return df.style.set_properties(**properties).set_table_styles(styles)"
   ]
  },
  {
   "cell_type": "code",
   "execution_count": null,
   "metadata": {},
   "outputs": [
    {
     "data": {
      "text/html": [
       "<style type=\"text/css\">\n",
       "#T_165f3 th {\n",
       "  text-align: left;\n",
       "}\n",
       "#T_165f3_row0_col0, #T_165f3_row0_col1, #T_165f3_row0_col2, #T_165f3_row1_col0, #T_165f3_row1_col1, #T_165f3_row1_col2, #T_165f3_row2_col0, #T_165f3_row2_col1, #T_165f3_row2_col2 {\n",
       "  width: auto;\n",
       "  text-align: left;\n",
       "}\n",
       "</style>\n",
       "<table id=\"T_165f3\">\n",
       "  <thead>\n",
       "    <tr>\n",
       "      <th class=\"blank level0\" >&nbsp;</th>\n",
       "      <th id=\"T_165f3_level0_col0\" class=\"col_heading level0 col0\" >Name</th>\n",
       "      <th id=\"T_165f3_level0_col1\" class=\"col_heading level0 col1\" >Age</th>\n",
       "      <th id=\"T_165f3_level0_col2\" class=\"col_heading level0 col2\" >Occupation</th>\n",
       "    </tr>\n",
       "  </thead>\n",
       "  <tbody>\n",
       "    <tr>\n",
       "      <th id=\"T_165f3_level0_row0\" class=\"row_heading level0 row0\" >0</th>\n",
       "      <td id=\"T_165f3_row0_col0\" class=\"data row0 col0\" >John</td>\n",
       "      <td id=\"T_165f3_row0_col1\" class=\"data row0 col1\" >35</td>\n",
       "      <td id=\"T_165f3_row0_col2\" class=\"data row0 col2\" >Engineer</td>\n",
       "    </tr>\n",
       "    <tr>\n",
       "      <th id=\"T_165f3_level0_row1\" class=\"row_heading level0 row1\" >1</th>\n",
       "      <td id=\"T_165f3_row1_col0\" class=\"data row1 col0\" >Jane</td>\n",
       "      <td id=\"T_165f3_row1_col1\" class=\"data row1 col1\" >29</td>\n",
       "      <td id=\"T_165f3_row1_col2\" class=\"data row1 col2\" >Teacher</td>\n",
       "    </tr>\n",
       "    <tr>\n",
       "      <th id=\"T_165f3_level0_row2\" class=\"row_heading level0 row2\" >2</th>\n",
       "      <td id=\"T_165f3_row2_col0\" class=\"data row2 col0\" >Bob</td>\n",
       "      <td id=\"T_165f3_row2_col1\" class=\"data row2 col1\" >42</td>\n",
       "      <td id=\"T_165f3_row2_col2\" class=\"data row2 col2\" >Doctor</td>\n",
       "    </tr>\n",
       "  </tbody>\n",
       "</table>\n"
      ],
      "text/plain": [
       "<pandas.io.formats.style.Styler>"
      ]
     },
     "execution_count": null,
     "metadata": {},
     "output_type": "execute_result"
    }
   ],
   "source": [
    "display_df(markdown_df)"
   ]
  },
  {
   "cell_type": "code",
   "execution_count": null,
   "metadata": {},
   "outputs": [],
   "source": []
  },
  {
   "cell_type": "code",
   "execution_count": null,
   "metadata": {},
   "outputs": [],
   "source": [
    "#| hide\n",
    "import nbdev; nbdev.nbdev_export()"
   ]
  }
 ],
 "metadata": {
  "kernelspec": {
   "display_name": "Python 3 (ipykernel)",
   "language": "python",
   "name": "python3"
  }
 },
 "nbformat": 4,
 "nbformat_minor": 4
}
