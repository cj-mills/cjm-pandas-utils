{
 "cells": [
  {
   "cell_type": "markdown",
   "metadata": {},
   "source": [
    "# core\n",
    "\n",
    "> Fill in a module description here"
   ]
  },
  {
   "cell_type": "code",
   "execution_count": null,
   "metadata": {},
   "outputs": [],
   "source": [
    "#| default_exp core"
   ]
  },
  {
   "cell_type": "code",
   "execution_count": null,
   "metadata": {},
   "outputs": [],
   "source": [
    "#| hide\n",
    "from nbdev.showdoc import *"
   ]
  },
  {
   "cell_type": "code",
   "execution_count": null,
   "metadata": {},
   "outputs": [],
   "source": [
    "#| export\n",
    "import pandas as pd"
   ]
  },
  {
   "cell_type": "code",
   "execution_count": null,
   "metadata": {},
   "outputs": [],
   "source": [
    "#| export\n",
    "def markdown_to_pandas(md_table_str:str): # The markdown table string to be converted.\n",
    "    \"\"\"\n",
    "    Convert a markdown table string to a pandas DataFrame.\n",
    "    \"\"\"\n",
    "    \n",
    "    # Split the input markdown string into separate lines\n",
    "    lines = md_table_str.strip().split(\"\\n\")\n",
    "    \n",
    "    # Split the first line of the input markdown string into columns\n",
    "    columns = lines[0].split(\"|\")[1:-1]\n",
    "    \n",
    "    # Strip the whitespaces in the columns\n",
    "    columns = [x.strip() for x in columns]\n",
    "    \n",
    "    # Split the remaining lines of the input markdown string into rows of data\n",
    "    data = [line.split(\"|\")[1:-1] for line in lines[2:]]\n",
    "    \n",
    "    # Strip the whitespaces in each row of data\n",
    "    data = [[x.strip() for x in row] for row in data]\n",
    "    \n",
    "    # Create a pandas DataFrame from the columns and data\n",
    "    return pd.DataFrame(data, columns=columns)"
   ]
  },
  {
   "cell_type": "code",
   "execution_count": null,
   "metadata": {},
   "outputs": [],
   "source": [
    "md_table_str = \"\"\"\n",
    "| Name | Age | Occupation |\n",
    "| ---- | --- | ---------- |\n",
    "| John | 35  | Engineer    |\n",
    "| Jane | 29  | Teacher     |\n",
    "| Bob  | 42  | Doctor      |\n",
    "\"\"\""
   ]
  },
  {
   "cell_type": "code",
   "execution_count": null,
   "metadata": {},
   "outputs": [
    {
     "data": {
      "text/html": [
       "<div>\n",
       "<style scoped>\n",
       "    .dataframe tbody tr th:only-of-type {\n",
       "        vertical-align: middle;\n",
       "    }\n",
       "\n",
       "    .dataframe tbody tr th {\n",
       "        vertical-align: top;\n",
       "    }\n",
       "\n",
       "    .dataframe thead th {\n",
       "        text-align: right;\n",
       "    }\n",
       "</style>\n",
       "<table border=\"1\" class=\"dataframe\">\n",
       "  <thead>\n",
       "    <tr style=\"text-align: right;\">\n",
       "      <th></th>\n",
       "      <th>Name</th>\n",
       "      <th>Age</th>\n",
       "      <th>Occupation</th>\n",
       "    </tr>\n",
       "  </thead>\n",
       "  <tbody>\n",
       "    <tr>\n",
       "      <th>1</th>\n",
       "      <td>Jane</td>\n",
       "      <td>29</td>\n",
       "      <td>Teacher</td>\n",
       "    </tr>\n",
       "  </tbody>\n",
       "</table>\n",
       "</div>"
      ],
      "text/plain": [
       "   Name Age Occupation\n",
       "1  Jane  29    Teacher"
      ]
     },
     "execution_count": null,
     "metadata": {},
     "output_type": "execute_result"
    }
   ],
   "source": [
    "markdown_df = markdown_to_pandas(md_table_str)\n",
    "markdown_df[markdown_df.Name == \"Jane\"]"
   ]
  },
  {
   "cell_type": "code",
   "execution_count": null,
   "metadata": {},
   "outputs": [],
   "source": [
    "#| hide\n",
    "import nbdev; nbdev.nbdev_export()"
   ]
  }
 ],
 "metadata": {
  "kernelspec": {
   "display_name": "Python 3 (ipykernel)",
   "language": "python",
   "name": "python3"
  }
 },
 "nbformat": 4,
 "nbformat_minor": 4
}
