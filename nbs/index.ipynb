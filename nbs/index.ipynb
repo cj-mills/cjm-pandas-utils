{
 "cells": [
  {
   "cell_type": "code",
   "execution_count": null,
   "metadata": {},
   "outputs": [],
   "source": [
    "#| hide\n",
    "from cjm_pandas_utils.core import *"
   ]
  },
  {
   "cell_type": "markdown",
   "metadata": {},
   "source": [
    "# cjm-pandas-utils\n",
    "\n",
    "> Some utility functions for working with Pandas."
   ]
  },
  {
   "cell_type": "markdown",
   "metadata": {},
   "source": [
    "This file will become your README and also the index of your documentation."
   ]
  },
  {
   "cell_type": "markdown",
   "metadata": {},
   "source": [
    "## Install"
   ]
  },
  {
   "cell_type": "markdown",
   "metadata": {},
   "source": [
    "```sh\n",
    "pip install cjm_pandas_utils\n",
    "```"
   ]
  },
  {
   "cell_type": "markdown",
   "metadata": {},
   "source": [
    "## How to use"
   ]
  },
  {
   "cell_type": "markdown",
   "metadata": {},
   "source": [
    "### markdown_to_pandas"
   ]
  },
  {
   "cell_type": "code",
   "execution_count": null,
   "metadata": {},
   "outputs": [],
   "source": [
    "from cjm_pandas_utils.core import markdown_to_pandas"
   ]
  },
  {
   "cell_type": "code",
   "execution_count": null,
   "metadata": {},
   "outputs": [],
   "source": [
    "md_table_str = \"\"\"\n",
    "| Name | Age | Occupation |\n",
    "| ---- | --- | ---------- |\n",
    "| John | 35  | Engineer    |\n",
    "| Jane | 29  | Teacher     |\n",
    "| Bob  | 42  | Doctor      |\n",
    "\"\"\""
   ]
  },
  {
   "cell_type": "code",
   "execution_count": null,
   "metadata": {},
   "outputs": [
    {
     "data": {
      "text/plain": [
       "Name             Jane\n",
       "Age                29\n",
       "Occupation    Teacher\n",
       "Name: 1, dtype: object"
      ]
     },
     "execution_count": null,
     "metadata": {},
     "output_type": "execute_result"
    }
   ],
   "source": [
    "markdown_df = markdown_to_pandas(md_table_str)\n",
    "markdown_df.iloc[1]"
   ]
  },
  {
   "cell_type": "markdown",
   "metadata": {},
   "source": [
    "### display_df"
   ]
  },
  {
   "cell_type": "code",
   "execution_count": null,
   "metadata": {},
   "outputs": [],
   "source": [
    "from cjm_pandas_utils.core import display_df"
   ]
  },
  {
   "cell_type": "code",
   "execution_count": null,
   "metadata": {},
   "outputs": [
    {
     "data": {
      "text/html": [
       "<style type=\"text/css\">\n",
       "#T_a95dc th {\n",
       "  text-align: left;\n",
       "}\n",
       "#T_a95dc_row0_col0, #T_a95dc_row0_col1, #T_a95dc_row0_col2, #T_a95dc_row1_col0, #T_a95dc_row1_col1, #T_a95dc_row1_col2, #T_a95dc_row2_col0, #T_a95dc_row2_col1, #T_a95dc_row2_col2 {\n",
       "  width: auto;\n",
       "  text-align: left;\n",
       "}\n",
       "</style>\n",
       "<table id=\"T_a95dc\">\n",
       "  <thead>\n",
       "    <tr>\n",
       "      <th class=\"blank level0\" >&nbsp;</th>\n",
       "      <th id=\"T_a95dc_level0_col0\" class=\"col_heading level0 col0\" >Name</th>\n",
       "      <th id=\"T_a95dc_level0_col1\" class=\"col_heading level0 col1\" >Age</th>\n",
       "      <th id=\"T_a95dc_level0_col2\" class=\"col_heading level0 col2\" >Occupation</th>\n",
       "    </tr>\n",
       "  </thead>\n",
       "  <tbody>\n",
       "    <tr>\n",
       "      <th id=\"T_a95dc_level0_row0\" class=\"row_heading level0 row0\" >0</th>\n",
       "      <td id=\"T_a95dc_row0_col0\" class=\"data row0 col0\" >John</td>\n",
       "      <td id=\"T_a95dc_row0_col1\" class=\"data row0 col1\" >35</td>\n",
       "      <td id=\"T_a95dc_row0_col2\" class=\"data row0 col2\" >Engineer</td>\n",
       "    </tr>\n",
       "    <tr>\n",
       "      <th id=\"T_a95dc_level0_row1\" class=\"row_heading level0 row1\" >1</th>\n",
       "      <td id=\"T_a95dc_row1_col0\" class=\"data row1 col0\" >Jane</td>\n",
       "      <td id=\"T_a95dc_row1_col1\" class=\"data row1 col1\" >29</td>\n",
       "      <td id=\"T_a95dc_row1_col2\" class=\"data row1 col2\" >Teacher</td>\n",
       "    </tr>\n",
       "    <tr>\n",
       "      <th id=\"T_a95dc_level0_row2\" class=\"row_heading level0 row2\" >2</th>\n",
       "      <td id=\"T_a95dc_row2_col0\" class=\"data row2 col0\" >Bob</td>\n",
       "      <td id=\"T_a95dc_row2_col1\" class=\"data row2 col1\" >42</td>\n",
       "      <td id=\"T_a95dc_row2_col2\" class=\"data row2 col2\" >Doctor</td>\n",
       "    </tr>\n",
       "  </tbody>\n",
       "</table>\n"
      ],
      "text/plain": [
       "<pandas.io.formats.style.Styler>"
      ]
     },
     "execution_count": null,
     "metadata": {},
     "output_type": "execute_result"
    }
   ],
   "source": [
    "display_df(markdown_df)"
   ]
  },
  {
   "cell_type": "code",
   "execution_count": null,
   "metadata": {},
   "outputs": [],
   "source": []
  }
 ],
 "metadata": {
  "kernelspec": {
   "display_name": "Python 3 (ipykernel)",
   "language": "python",
   "name": "python3"
  }
 },
 "nbformat": 4,
 "nbformat_minor": 4
}
